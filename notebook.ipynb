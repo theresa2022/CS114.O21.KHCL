{
  "nbformat": 4,
  "nbformat_minor": 0,
  "metadata": {
    "colab": {
      "provenance": [],
      "gpuType": "T4",
      "authorship_tag": "ABX9TyPNs9qr1TFwnJ05cse518i5",
      "include_colab_link": true
    },
    "kernelspec": {
      "name": "python3",
      "display_name": "Python 3"
    },
    "language_info": {
      "name": "python"
    }
  },
  "cells": [
    {
      "cell_type": "markdown",
      "metadata": {
        "id": "view-in-github",
        "colab_type": "text"
      },
      "source": [
        "<a href=\"https://colab.research.google.com/github/theresa2022/CS114.O21.KHCL/blob/main/notebook.ipynb\" target=\"_parent\"><img src=\"https://colab.research.google.com/assets/colab-badge.svg\" alt=\"Open In Colab\"/></a>"
      ]
    },
    {
      "cell_type": "code",
      "execution_count": null,
      "metadata": {
        "colab": {
          "base_uri": "https://localhost:8080/"
        },
        "id": "Ebx07MKl3cLm",
        "outputId": "8983e94e-dcc4-44e9-b4db-570c6d26caaf"
      },
      "outputs": [
        {
          "output_type": "stream",
          "name": "stdout",
          "text": [
            "7\n",
            "5 7 8 8 12 16 19\n",
            "6\n",
            "8 1 0 8 3 16\n",
            "3\n",
            "-1\n",
            "-1\n",
            "3\n",
            "-1\n",
            "5\n"
          ]
        }
      ],
      "source": [
        "n=int(input())\n",
        "dic=dict()\n",
        "lst=list(map(int,input().split()))\n",
        "for i in range(n):\n",
        "  dic[lst[i]]=i\n",
        "\n",
        "m=int(input())\n",
        "l=list(map(int, input().split()))\n",
        "for i in range(m):\n",
        "  if l[i] in dic:\n",
        "    print(dic[l[i]])\n",
        "  else:\n",
        "    print(-1)"
      ]
    },
    {
      "cell_type": "code",
      "source": [
        "%%writefile gentlest.py\n",
        "import random\n",
        "n, m = 15, 10\n",
        "print(n)\n",
        "print(*sorted([random.randint(0, 10000) for i in range(n)]))\n",
        "print(m)\n",
        "print(*[random.randint(0, 10000) for i in range(m)])\n"
      ],
      "metadata": {
        "colab": {
          "base_uri": "https://localhost:8080/"
        },
        "id": "zVBFnYIGxgIC",
        "outputId": "c358fae8-4784-48a8-c99f-a6444f53481c"
      },
      "execution_count": null,
      "outputs": [
        {
          "output_type": "stream",
          "name": "stdout",
          "text": [
            "Overwriting gentlest.py\n"
          ]
        }
      ]
    },
    {
      "cell_type": "code",
      "source": [
        "r, c = map(int, input().split())\n",
        "lst = []\n",
        "for _ in range(r):\n",
        "  lst.append(list(map(int, input().split())))\n",
        "\n",
        "for i in range(r):\n",
        "  for j in range(c):\n",
        "    top = i\n",
        "    bot = r-i-1\n",
        "    left = j\n",
        "    right = c-j-1\n",
        "    if top < bot or left > right: break\n"
      ],
      "metadata": {
        "colab": {
          "base_uri": "https://localhost:8080/",
          "height": 211
        },
        "id": "y7SYxYMIc9jp",
        "outputId": "11c3a44a-d46e-4250-ad06-821d03af094e"
      },
      "execution_count": null,
      "outputs": [
        {
          "output_type": "error",
          "ename": "ValueError",
          "evalue": "invalid literal for int() with base 10: ''",
          "traceback": [
            "\u001b[0;31m---------------------------------------------------------------------------\u001b[0m",
            "\u001b[0;31mValueError\u001b[0m                                Traceback (most recent call last)",
            "\u001b[0;32m<ipython-input-1-f6e463151fcf>\u001b[0m in \u001b[0;36m<cell line: 2>\u001b[0;34m()\u001b[0m\n\u001b[1;32m      1\u001b[0m \u001b[0;32mimport\u001b[0m \u001b[0msys\u001b[0m\u001b[0;34m\u001b[0m\u001b[0;34m\u001b[0m\u001b[0m\n\u001b[0;32m----> 2\u001b[0;31m \u001b[0mn\u001b[0m\u001b[0;34m=\u001b[0m\u001b[0mint\u001b[0m\u001b[0;34m(\u001b[0m\u001b[0msys\u001b[0m\u001b[0;34m.\u001b[0m\u001b[0mstdin\u001b[0m\u001b[0;34m.\u001b[0m\u001b[0mreadline\u001b[0m\u001b[0;34m(\u001b[0m\u001b[0;34m)\u001b[0m\u001b[0;34m)\u001b[0m\u001b[0;34m\u001b[0m\u001b[0;34m\u001b[0m\u001b[0m\n\u001b[0m\u001b[1;32m      3\u001b[0m \u001b[0mmang1\u001b[0m\u001b[0;34m=\u001b[0m\u001b[0mlist\u001b[0m\u001b[0;34m(\u001b[0m\u001b[0mmap\u001b[0m\u001b[0;34m(\u001b[0m\u001b[0mint\u001b[0m\u001b[0;34m,\u001b[0m \u001b[0msys\u001b[0m\u001b[0;34m.\u001b[0m\u001b[0mstdin\u001b[0m\u001b[0;34m.\u001b[0m\u001b[0mreadline\u001b[0m\u001b[0;34m(\u001b[0m\u001b[0;34m)\u001b[0m\u001b[0;34m.\u001b[0m\u001b[0mstrip\u001b[0m\u001b[0;34m(\u001b[0m\u001b[0;34m)\u001b[0m\u001b[0;34m)\u001b[0m\u001b[0;34m.\u001b[0m\u001b[0msplit\u001b[0m\u001b[0;34m(\u001b[0m\u001b[0;34m)\u001b[0m\u001b[0;34m)\u001b[0m\u001b[0;34m\u001b[0m\u001b[0;34m\u001b[0m\u001b[0m\n\u001b[1;32m      4\u001b[0m \u001b[0mm\u001b[0m\u001b[0;34m=\u001b[0m\u001b[0mint\u001b[0m\u001b[0;34m(\u001b[0m\u001b[0msys\u001b[0m\u001b[0;34m.\u001b[0m\u001b[0mstdin\u001b[0m\u001b[0;34m.\u001b[0m\u001b[0mreadline\u001b[0m\u001b[0;34m(\u001b[0m\u001b[0;34m)\u001b[0m\u001b[0;34m)\u001b[0m\u001b[0;34m\u001b[0m\u001b[0;34m\u001b[0m\u001b[0m\n\u001b[1;32m      5\u001b[0m \u001b[0mmang2\u001b[0m\u001b[0;34m=\u001b[0m\u001b[0mlist\u001b[0m\u001b[0;34m(\u001b[0m\u001b[0mmap\u001b[0m\u001b[0;34m(\u001b[0m\u001b[0mint\u001b[0m\u001b[0;34m,\u001b[0m \u001b[0msys\u001b[0m\u001b[0;34m.\u001b[0m\u001b[0mstdin\u001b[0m\u001b[0;34m.\u001b[0m\u001b[0mreadline\u001b[0m\u001b[0;34m(\u001b[0m\u001b[0;34m)\u001b[0m\u001b[0;34m.\u001b[0m\u001b[0mstrip\u001b[0m\u001b[0;34m(\u001b[0m\u001b[0;34m)\u001b[0m\u001b[0;34m)\u001b[0m\u001b[0;34m.\u001b[0m\u001b[0msplit\u001b[0m\u001b[0;34m(\u001b[0m\u001b[0;34m)\u001b[0m\u001b[0;34m)\u001b[0m\u001b[0;34m\u001b[0m\u001b[0;34m\u001b[0m\u001b[0m\n",
            "\u001b[0;31mValueError\u001b[0m: invalid literal for int() with base 10: ''"
          ]
        }
      ]
    },
    {
      "cell_type": "code",
      "source": [
        "m, n = map(int, input().split())\n",
        "onl = list(map(int, input().split()))\n",
        "fr = list(map(int, input().split()))\n",
        "dic = dict()\n",
        "ans = 0\n",
        "for i in range(m): dic[onl[i]]=0\n",
        "for i in range(n):\n",
        "  if fr[i] in dic: ans+=1\n",
        "print(ans)\n"
      ],
      "metadata": {
        "colab": {
          "base_uri": "https://localhost:8080/"
        },
        "id": "ML0o0c0isqhm",
        "outputId": "02505f5d-3e9f-418c-a7fd-2175d0382628"
      },
      "execution_count": null,
      "outputs": [
        {
          "output_type": "stream",
          "name": "stdout",
          "text": [
            "6 5\n",
            "1 2 3 4 5 6\n",
            "7 54 32 4 1\n",
            "2\n"
          ]
        }
      ]
    },
    {
      "cell_type": "code",
      "source": [
        "n, m = map(int, input().split())\n",
        "lst = []\n",
        "for _ in n:\n",
        "  lst.append()"
      ],
      "metadata": {
        "id": "sDCV82GKuoNH"
      },
      "execution_count": null,
      "outputs": []
    },
    {
      "cell_type": "code",
      "source": [
        "!python gentlest.py > test100.txt"
      ],
      "metadata": {
        "id": "K0NiMSVGKnIN"
      },
      "execution_count": null,
      "outputs": []
    },
    {
      "cell_type": "code",
      "source": [
        "!apt install time"
      ],
      "metadata": {
        "colab": {
          "base_uri": "https://localhost:8080/"
        },
        "id": "WvE0H0hG0C2K",
        "outputId": "dc5b074b-d2d0-4607-bcbd-0c2335defdd2"
      },
      "execution_count": null,
      "outputs": [
        {
          "output_type": "stream",
          "name": "stdout",
          "text": [
            "Reading package lists... Done\n",
            "Building dependency tree... Done\n",
            "Reading state information... Done\n",
            "The following NEW packages will be installed:\n",
            "  time\n",
            "0 upgraded, 1 newly installed, 0 to remove and 35 not upgraded.\n",
            "Need to get 46.7 kB of archives.\n",
            "After this operation, 129 kB of additional disk space will be used.\n",
            "Get:1 http://archive.ubuntu.com/ubuntu jammy/main amd64 time amd64 1.9-0.1build2 [46.7 kB]\n",
            "Fetched 46.7 kB in 0s (111 kB/s)\n",
            "Selecting previously unselected package time.\n",
            "(Reading database ... 121749 files and directories currently installed.)\n",
            "Preparing to unpack .../time_1.9-0.1build2_amd64.deb ...\n",
            "Unpacking time (1.9-0.1build2) ...\n",
            "Setting up time (1.9-0.1build2) ...\n",
            "Processing triggers for man-db (2.10.2-1) ...\n"
          ]
        }
      ]
    },
    {
      "cell_type": "code",
      "source": [
        "r, c = map(int, input().split())\n",
        "lst = []\n",
        "\n",
        "for i in range(r):\n",
        "  lst.append(input().split())\n",
        "\n",
        "max_len = [0]*r\n",
        "for i in range(r):\n",
        "  for j in range(c):\n",
        "    print(i, j, lst[j][i])\n",
        "    if len(lst[j][i]) > max_len[i]:\n",
        "      max_len[i]=len(lst[j][i])\n",
        "\n",
        "for i in range(r):\n",
        "  for j in range(c):\n",
        "    if j==c-1:\n",
        "      print((max_len[j] - len(lst[i][j]))*' '+lst[i][j], end=\"\")\n",
        "    else:\n",
        "      print((max_len[j] - len(lst[i][j]))*' '+lst[i][j], end=\" \")\n",
        "  print()\n"
      ],
      "metadata": {
        "colab": {
          "base_uri": "https://localhost:8080/"
        },
        "id": "EWQmppG-tl9H",
        "outputId": "57a38f43-b82a-4360-eac0-4976f9f59f51"
      },
      "execution_count": null,
      "outputs": [
        {
          "output_type": "stream",
          "name": "stdout",
          "text": [
            "5 5\n",
            "28913 26846 85 19649 8524\n",
            "7970 31692 11666 2213 6747\n",
            "22640 18740 30793 9860 15977\n",
            "24997 18366 18071 8766 20104\n",
            "18223 27172 2671 101 2170\n",
            "28913 26846    85 19649  8524\n",
            " 7970 31692 11666  2213  6747\n",
            "22640 18740 30793  9860 15977\n",
            "24997 18366 18071  8766 20104\n",
            "18223 27172  2671   101  2170\n"
          ]
        }
      ]
    },
    {
      "cell_type": "code",
      "source": [
        "A = list(map(int, input().split()))\n",
        "B = list(map(int, input().split()))\n",
        "\n",
        "AB = [B[0]-A[0], B[1]-A[0]]\n",
        "n1 = [-AB[1], AB[0]]\n",
        "n2 = [AB[1], -AB[0]]\n",
        "\n",
        "if A[0] < B[0]:\n",
        "  print(f'({A[0], A[1]}), ({A[0]+n1[0]}, {A[1]+n1[1]}), ({B[0]+n1[0]}, {B[1]+n1[1]}), ({B[0]}, {B[1]})')\n",
        "  print(f'({A[0], A[1]}), ({B[0]}, {B[1]}), ({B[0]+n2[0]}, {B[1]+n2[1]}), ({A[0]+n2[0]}, {A[1]+n2[1]})')\n",
        "else:\n",
        "  print(f'({A[0], A[1]}), ({B[0]}, {B[1]}), ({B[0]+n1[0]}, {B[1]+n1[1]}), ({A[0]+n1[0]}, {A[1]+n1[1]})')\n",
        "  print(f'({A[0], A[1]}), ({A[0]+n2[0]}, {A[1]+n2[1]}), ({B[0]+n2[0]}, {B[1]+n2[1]}), ({B[0]}, {B[1]})')\n"
      ],
      "metadata": {
        "colab": {
          "base_uri": "https://localhost:8080/"
        },
        "id": "OJK9yELgOa5i",
        "outputId": "160af8ee-2673-4f8a-ce56-82414f4c3b24"
      },
      "execution_count": null,
      "outputs": [
        {
          "output_type": "stream",
          "name": "stdout",
          "text": [
            "2 4\n",
            "3 4\n",
            "(2, 4), (0, 5), (1, 5), (3, 4)\n",
            "((2, 4)), (3, 4), (5, 3), (4, 3)\n"
          ]
        }
      ]
    },
    {
      "cell_type": "code",
      "source": [
        "!touch arr.txt"
      ],
      "metadata": {
        "id": "juxfanuD3mIg"
      },
      "execution_count": null,
      "outputs": []
    },
    {
      "cell_type": "code",
      "source": [
        "!python arr.py < arr.txt"
      ],
      "metadata": {
        "colab": {
          "base_uri": "https://localhost:8080/"
        },
        "id": "gRE-RFQldrCd",
        "outputId": "a6f00561-27c1-424e-894a-6cf48dad781b"
      },
      "execution_count": null,
      "outputs": [
        {
          "output_type": "stream",
          "name": "stdout",
          "text": [
            "0 -0 -312983721        -1    -1 \n",
            "0  0         -2 371289837 78192 \n"
          ]
        }
      ]
    },
    {
      "cell_type": "markdown",
      "source": [
        "!python"
      ],
      "metadata": {
        "id": "OyFV-EEjddku"
      }
    },
    {
      "cell_type": "markdown",
      "source": [],
      "metadata": {
        "id": "33H7CRr_dP2t"
      }
    },
    {
      "cell_type": "code",
      "source": [
        "from google.colab import drive\n",
        "drive.mount('/content/drive')"
      ],
      "metadata": {
        "id": "Cdmj7rWEdQrQ"
      },
      "execution_count": null,
      "outputs": []
    },
    {
      "cell_type": "code",
      "source": [
        "!apt install time"
      ],
      "metadata": {
        "colab": {
          "base_uri": "https://localhost:8080/"
        },
        "id": "okIi8r3a3rou",
        "outputId": "004c3289-f811-4b20-811d-642207555b64"
      },
      "execution_count": null,
      "outputs": [
        {
          "output_type": "stream",
          "name": "stdout",
          "text": [
            "Reading package lists... Done\n",
            "Building dependency tree... Done\n",
            "Reading state information... Done\n",
            "The following NEW packages will be installed:\n",
            "  time\n",
            "0 upgraded, 1 newly installed, 0 to remove and 35 not upgraded.\n",
            "Need to get 46.7 kB of archives.\n",
            "After this operation, 129 kB of additional disk space will be used.\n",
            "Get:1 http://archive.ubuntu.com/ubuntu jammy/main amd64 time amd64 1.9-0.1build2 [46.7 kB]\n",
            "Fetched 46.7 kB in 1s (45.8 kB/s)\n",
            "Selecting previously unselected package time.\n",
            "(Reading database ... 121749 files and directories currently installed.)\n",
            "Preparing to unpack .../time_1.9-0.1build2_amd64.deb ...\n",
            "Unpacking time (1.9-0.1build2) ...\n",
            "Setting up time (1.9-0.1build2) ...\n",
            "Processing triggers for man-db (2.10.2-1) ...\n"
          ]
        }
      ]
    },
    {
      "cell_type": "code",
      "source": [
        "!echo 10000000 | time python tablet.py"
      ],
      "metadata": {
        "colab": {
          "base_uri": "https://localhost:8080/"
        },
        "id": "QerG0MMO3vTO",
        "outputId": "e401c937-0fff-4e61-90df-f55fe89706bc"
      },
      "execution_count": null,
      "outputs": [
        {
          "output_type": "stream",
          "name": "stdout",
          "text": [
            "9971200.0 758400\n",
            "9784704.0 2063872\n",
            "9600000.0 2800000\n",
            "9360000.0 3520000\n",
            "8432000.0 5376000\n",
            "8000000.0 6000000\n",
            "7521920.0 6589440\n",
            "7\n",
            "5.56user 0.01system 0:05.60elapsed 99%CPU (0avgtext+0avgdata 10072maxresident)k\n",
            "0inputs+0outputs (0major+1385minor)pagefaults 0swaps\n"
          ]
        }
      ]
    }
  ]
}